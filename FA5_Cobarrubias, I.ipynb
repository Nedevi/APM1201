{
  "nbformat": 4,
  "nbformat_minor": 0,
  "metadata": {
    "colab": {
      "provenance": [],
      "authorship_tag": "ABX9TyMftgcFGr7eX4u+/UNUBMEh",
      "include_colab_link": true
    },
    "kernelspec": {
      "name": "python3",
      "display_name": "Python 3"
    },
    "language_info": {
      "name": "python"
    }
  },
  "cells": [
    {
      "cell_type": "markdown",
      "metadata": {
        "id": "view-in-github",
        "colab_type": "text"
      },
      "source": [
        "<a href=\"https://colab.research.google.com/github/Nedevi/APM1201/blob/main/FA5_Cobarrubias%2C%20I.ipynb\" target=\"_parent\"><img src=\"https://colab.research.google.com/assets/colab-badge.svg\" alt=\"Open In Colab\"/></a>"
      ]
    },
    {
      "cell_type": "markdown",
      "source": [
        "P-5.32: Write a Python function that takes two three-dimensional numeric data\n",
        "sets and adds them componentwise."
      ],
      "metadata": {
        "id": "EvdapPlzYbnu"
      }
    },
    {
      "cell_type": "code",
      "source": [
        "def add_comp(set1, set2):\n",
        "  if len(set1) != len(set2):\n",
        "        return None\n",
        "  for i in range(len(set1)):\n",
        "        if len(set1[i]) != len(set2[i]):\n",
        "            return None\n",
        "        for j in range(len(set1[i])):\n",
        "            if len(set1[i][j]) != len(set2[i][j]):\n",
        "                return None\n",
        "  result = []\n",
        "  for i in range(len(set1)):\n",
        "      layer = []\n",
        "      for j in range(len(set1[i])):\n",
        "          row = []\n",
        "          for k in range(len(set1[i][j])):\n",
        "              row.append(set1[i][j][k] + set2[i][j][k])\n",
        "          layer.append(row)\n",
        "      result.append(layer)\n",
        "  return result\n",
        "\n",
        "set1 = [\n",
        "    [\n",
        "        [1, 2, 3],  # First 2D layer\n",
        "        [4, 5, 6],\n",
        "        [7, 8, 9]\n",
        "    ],\n",
        "    [\n",
        "        [10, 11, 12],  # Second 2D layer\n",
        "        [13, 14, 15],\n",
        "        [16, 17, 18]\n",
        "    ],\n",
        "    [\n",
        "        [19, 20, 21],  # Third 2D layer\n",
        "        [22, 23, 24],\n",
        "        [25, 26, 27]\n",
        "    ]\n",
        "]\n",
        "print(add_comp(set1, set1))"
      ],
      "metadata": {
        "colab": {
          "base_uri": "https://localhost:8080/"
        },
        "id": "djbQ86lSYf0X",
        "outputId": "d278d0e1-f146-4625-f441-f0ec4ef8f1a0"
      },
      "execution_count": null,
      "outputs": [
        {
          "output_type": "stream",
          "name": "stdout",
          "text": [
            "[[[2, 4, 6], [8, 10, 12], [14, 16, 18]], [[20, 22, 24], [26, 28, 30], [32, 34, 36]], [[38, 40, 42], [44, 46, 48], [50, 52, 54]]]\n"
          ]
        }
      ]
    },
    {
      "cell_type": "markdown",
      "source": [
        "P-6.32: Give a complete ArrayDeque implementation of the double-ended queue\n",
        "ADT as sketched in Section 6.3.2."
      ],
      "metadata": {
        "id": "1Mmu73AwYgKW"
      }
    },
    {
      "cell_type": "code",
      "source": [
        "  class ArrayDeque:\n",
        "    def __init__(self, capacity =10):\n",
        "      self.data = [None]\n",
        "      self.size = 0\n",
        "      self.front = 0\n",
        "\n",
        "    def __len__(self):\n",
        "      return self.size\n",
        "\n",
        "    def resize(self, new_capacity):\n",
        "          old_data = self.data\n",
        "          self.data = [None] * new_capacity\n",
        "          walk = self.front\n",
        "          for i in range(self.size):\n",
        "              self.data[i] = old_data[walk]\n",
        "              walk = (walk + 1) % len(old_data)\n",
        "          self.front = 0\n",
        "\n",
        "    def add_first(self, item):\n",
        "      if self.size == len(self.data):\n",
        "              self.resize(2 * len(self.data))\n",
        "      self.front = (self.front - 1) % len(self.data)\n",
        "      self.data[self.front] = item\n",
        "      self.size += 1\n",
        "\n",
        "    def add_last(self, item):\n",
        "      if self.size == len(self.data):\n",
        "              self.resize(2 * len(self.data))\n",
        "      self.data[(self.front + self.size) % len(self.data)] = item\n",
        "      self.size += 1\n",
        "\n",
        "    def delete_first(self):\n",
        "      if self.is_empty():\n",
        "        raise IndexError(\"Deque is empty\")\n",
        "      item = self.data[self.front]\n",
        "      self.data[self.front] = None\n",
        "      self.front = (self.front + 1) % len(self.data)\n",
        "      self.size -= 1\n",
        "      return item\n",
        "\n",
        "    def delete_last(self):\n",
        "      if self.is_empty():\n",
        "        raise IndexError(\"Deque is empty\")\n",
        "      back = (self.front + self.size - 1) % len(self.data)\n",
        "      item = self.data[back]\n",
        "      self.data[back] = None\n",
        "      self.size -= 1\n",
        "      return item\n",
        "\n",
        "    def is_empty(self):\n",
        "      if self.size == 0:\n",
        "        return True\n",
        "      return False\n",
        "\n",
        "    def first(self):\n",
        "      if self.is_empty():\n",
        "        raise IndexError(\"Deque is empty\")\n",
        "      return self.data[self.front]\n",
        "\n",
        "    def last(self):\n",
        "      if self.is_empty():\n",
        "        raise IndexError(\"Deque is empty\")\n",
        "      return self.data[(self.front + self.size - 1) % len(self.data)]\n",
        "\n",
        "\n",
        "\n",
        "  deque = ArrayDeque()\n",
        "  deque.add_first(10)\n",
        "  deque.add_last(20)\n",
        "  deque.add_first(5)\n",
        "  print(deque.delete_last())\n",
        "  print(deque.delete_first())\n",
        "  print(len(deque))"
      ],
      "metadata": {
        "colab": {
          "base_uri": "https://localhost:8080/"
        },
        "id": "xEZvL1m6MYBH",
        "outputId": "34acf8a7-74dd-4e06-84b0-d20020cf8cd3"
      },
      "execution_count": null,
      "outputs": [
        {
          "output_type": "stream",
          "name": "stdout",
          "text": [
            "20\n",
            "5\n",
            "1\n"
          ]
        }
      ]
    }
  ]
}