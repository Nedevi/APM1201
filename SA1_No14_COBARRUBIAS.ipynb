{
 "cells": [
  {
   "cell_type": "code",
   "execution_count": 25,
   "id": "e22f3c74",
   "metadata": {},
   "outputs": [
    {
     "name": "stdout",
     "output_type": "stream",
     "text": [
      "Pair found: (2, 30)\n",
      "158000 nanoseconds\n"
     ]
    }
   ],
   "source": [
    "import time\n",
    "import random\n",
    "\n",
    "def find_pair(S, k):\n",
    "    if len(S) < 2:\n",
    "        return None\n",
    "\n",
    "    a = S[0]\n",
    "\n",
    "    diff = k - a\n",
    "\n",
    "    if diff in S[1:]:\n",
    "        return (a, diff)\n",
    "    else:\n",
    "        return find_pair(S[1:], k)\n",
    "\n",
    "    \n",
    "\n",
    "S = tuple(sorted(random.sample(range(1,2000), 1000)))\n",
    "a = time.time_ns()\n",
    "result = find_pair_recursive(S, 32)\n",
    "b = time.time_ns()\n",
    "if result:\n",
    "    print(f\"Pair found: {result}\")\n",
    "else:\n",
    "    print(\"No pair found.\")\n",
    "    \n",
    "print(b-a, \"nanoseconds\")\n"
   ]
  },
  {
   "cell_type": "code",
   "execution_count": null,
   "id": "6780aba0",
   "metadata": {},
   "outputs": [],
   "source": []
  }
 ],
 "metadata": {
  "kernelspec": {
   "display_name": "Python 3 (ipykernel)",
   "language": "python",
   "name": "python3"
  },
  "language_info": {
   "codemirror_mode": {
    "name": "ipython",
    "version": 3
   },
   "file_extension": ".py",
   "mimetype": "text/x-python",
   "name": "python",
   "nbconvert_exporter": "python",
   "pygments_lexer": "ipython3",
   "version": "3.11.5"
  }
 },
 "nbformat": 4,
 "nbformat_minor": 5
}
