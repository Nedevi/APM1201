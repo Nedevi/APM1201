{
  "nbformat": 4,
  "nbformat_minor": 0,
  "metadata": {
    "colab": {
      "provenance": [],
      "authorship_tag": "ABX9TyMsZ+VDe1k4wcSe6YdVlPOo",
      "include_colab_link": true
    },
    "kernelspec": {
      "name": "python3",
      "display_name": "Python 3"
    },
    "language_info": {
      "name": "python"
    }
  },
  "cells": [
    {
      "cell_type": "markdown",
      "metadata": {
        "id": "view-in-github",
        "colab_type": "text"
      },
      "source": [
        "<a href=\"https://colab.research.google.com/github/Nedevi/APM1201/blob/main/SA1_No11_COBARRUBIAS.ipynb\" target=\"_parent\"><img src=\"https://colab.research.google.com/assets/colab-badge.svg\" alt=\"Open In Colab\"/></a>"
      ]
    },
    {
      "cell_type": "code",
      "execution_count": 4,
      "metadata": {
        "colab": {
          "base_uri": "https://localhost:8080/"
        },
        "id": "zPmqN2nZRqTk",
        "outputId": "c4e552f3-5643-4d3e-ee93-2f63f0b2c1d6"
      },
      "outputs": [
        {
          "name": "stdout",
          "output_type": "stream",
          "text": [
            "Enter a button (or 'Q' to quit): 1\n",
            "1\n",
            "Enter a button (or 'Q' to quit): 2\n",
            "12\n",
            "Enter a button (or 'Q' to quit): 3\n",
            "123\n",
            "Enter a button (or 'Q' to quit): c\n",
            "12\n",
            "Enter a button (or 'Q' to quit): +\n",
            "12+\n",
            "Enter a button (or 'Q' to quit): 4\n",
            "12+4\n",
            "Enter a button (or 'Q' to quit): =\n",
            "16\n",
            "Enter a button (or 'Q' to quit): *\n",
            "16*\n",
            "Enter a button (or 'Q' to quit): 1\n",
            "16*1\n",
            "Enter a button (or 'Q' to quit): =\n",
            "16\n",
            "Enter a button (or 'Q' to quit): -\n",
            "16-\n",
            "Enter a button (or 'Q' to quit): 3\n",
            "16-3\n",
            "Enter a button (or 'Q' to quit): =\n",
            "13\n",
            "Enter a button (or 'Q' to quit): /\n",
            "13/\n",
            "Enter a button (or 'Q' to quit): 13\n",
            "Error\n",
            "Enter a button (or 'Q' to quit): q\n"
          ]
        }
      ],
      "source": [
        "class Calculator:\n",
        "    def __init__(self):\n",
        "        self.screen = \"0\"\n",
        "\n",
        "    def push_button(self, button):\n",
        "        if button == \"C\":\n",
        "            self.screen = \"0\"\n",
        "        elif button == \"=\":\n",
        "            try:\n",
        "                self.screen = str(eval(self.screen))\n",
        "            except Exception as e:\n",
        "                self.screen = \"Error\"\n",
        "        elif button in \"+-*/.0123456789\":\n",
        "            if self.screen == \"0\":\n",
        "                self.screen = button\n",
        "            else:\n",
        "                self.screen += button\n",
        "        elif button == \"c\":\n",
        "            if len(self.screen) > 1:\n",
        "                self.screen = self.screen[:-1]\n",
        "            else:\n",
        "                self.screen = \"0\"\n",
        "        else:\n",
        "            self.screen = \"Error\"\n",
        "        return self.screen\n",
        "\n",
        "    def display_screen(self):\n",
        "        print(self.screen)\n",
        "\n",
        "calculator = Calculator()\n",
        "\n",
        "while True:\n",
        "    button = input(\"Enter a button (or 'Q' to quit): \")\n",
        "    if button.upper() == \"Q\":\n",
        "        break\n",
        "    calculator.push_button(button)\n",
        "    calculator.display_screen()"
      ]
    }
  ]
}